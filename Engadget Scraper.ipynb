{
 "cells": [
  {
   "cell_type": "markdown",
   "metadata": {
    "deletable": true,
    "editable": true,
    "run_control": {
     "frozen": false,
     "read_only": false
    }
   },
   "source": [
    "**Async and Multi-process crawing is much much faster**. I initially wrote the engadget crawer as a single threaded class. Because the python `requests` library is synchronous, the crawler spent virtually all time waiting for the `GET` requests.\n",
    "    \n",
    "    This could be made a *lot* faster by parallelizing the crawling, or use proper async pattern. \n",
    "\n",
    "    This thought came to me pretty late during the second crawl so I did not implement it. But for future work, parallel and async crawler is going to be on the todo list.\n",
    "    \n",
    "    \n",
    "## TODO\n",
    "\n",
    "- [ ] use async pattern for the requests, so that we don't spend 90% of the time waiting for `GET` request to finish.\n",
    "- [ ] use multiple-threads to craw."
   ]
  },
  {
   "cell_type": "code",
   "execution_count": 1,
   "metadata": {
    "ExecuteTime": {
     "end_time": "2017-03-30T20:32:27.962833Z",
     "start_time": "2017-03-30T15:32:27.824776-05:00"
    },
    "collapsed": false,
    "deletable": true,
    "editable": true,
    "run_control": {
     "frozen": false,
     "read_only": false
    }
   },
   "outputs": [],
   "source": [
    "from bs4 import BeautifulSoup\n",
    "import requests\n",
    "from IPython.display import HTML\n",
    "import re\n",
    "import pickle\n",
    "\n",
    "from IPython.display import clear_output"
   ]
  },
  {
   "cell_type": "code",
   "execution_count": 2,
   "metadata": {
    "ExecuteTime": {
     "end_time": "2017-03-26T22:11:18.320776Z",
     "start_time": "2017-03-26T17:11:18.040290-05:00"
    },
    "collapsed": false,
    "deletable": true,
    "editable": true,
    "run_control": {
     "frozen": false,
     "read_only": false
    }
   },
   "outputs": [],
   "source": [
    "page = requests.get('https://www.engadget.com/2017/03/24/razers-paid-to-play-program-bribes-gamers-to-use-its-cortex-s/')\n",
    "soup = BeautifulSoup(page.content, 'html.parser')"
   ]
  },
  {
   "cell_type": "code",
   "execution_count": null,
   "metadata": {
    "collapsed": true
   },
   "outputs": [],
   "source": [
    "soup.prettify()"
   ]
  },
  {
   "cell_type": "code",
   "execution_count": 4,
   "metadata": {
    "ExecuteTime": {
     "end_time": "2017-03-26T22:11:18.380375Z",
     "start_time": "2017-03-26T17:11:18.354565-05:00"
    },
    "collapsed": false,
    "deletable": true,
    "editable": true,
    "run_control": {
     "frozen": false,
     "read_only": false
    }
   },
   "outputs": [
    {
     "data": {
      "text/html": [
       "<div class=\"article-text c-gray-1\">\n",
       "<p>Lingering in the mind of every gamer is a silly, whimsical idea that <a href=\"https://www.engadget.com/2013/02/01/pbs-competitive-gaming/\">very few manage to make a reality</a>. \"Gee,\" we think to ourselves. \"It sure would be neat if I could get someone to pay me to play video games.\" Most of us know it's a futile dream, but it's a desire Razer is banking on. Today the company announced its \"paid to play\" initiative, a program that's <em>almost</em> exactly what it sounds like. Yes, Razer is going to reward gamers for play their favorite games, but those players won't be earning cash -- they'll be earning ZSilver points from the company's <a href=\"https://www.engadget.com/2017/03/07/razers-zvault/\">new digital currency platform</a>.</p>\n",
       "</div><div class=\"article-text c-gray-1 no-review\">\n",
       "<p>Players can earn digital currency by launching games with Razer Cortex, a <a href=\"https://www.razerzone.com/cortex\">desktop software suite</a> designed to tweak system performance, manage game libraries and stream gameplay to sites like Twitch and YouTube. The paid for play campaign will reward players with three zSilver for each minute played. These zVault points aren't legal tender, but they're not useless either. zSilver points can be redeemed for discounts or products from the Razer store, and the company says it hopes to add things like movie tickets or coffee vouchers (presumably for a popular cafe chain) in the future. Still, earning rewards will be a long-haul effort: players are capped at 900 points a day and zSilver rewards range from 4,500 points for a product discount to 220,000 for a <a href=\"https://www.engadget.com/2017/01/24/razer-makes-its-blackwidow-keyboard-quieter-more-comfortable/\">mechanical keyboard</a>.</p><p>The paid to play system isn't compatible with all games either, though it clearly has a market. Competitive multiplayer titles like <em>Overwatch, Counter-Strike: Global Offensive</em> and <em>League of Legends</em> are among the most popular games confirmed to be part of the program. These are the kind of games dedicated fans return to day after day. That makes sense, too -- to get the full 900 daily zSilver points, one would need to play at least five hours. Think of it as an excuse to learn how to play that new Overwatch character.</p>\n",
       "</div>"
      ],
      "text/plain": [
       "<IPython.core.display.HTML object>"
      ]
     },
     "execution_count": 4,
     "metadata": {},
     "output_type": "execute_result"
    }
   ],
   "source": [
    "html = \"\"\n",
    "for n in soup.findAll('div', attrs={\"class\":\"article-text\"}):\n",
    "    html += str(n)\n",
    "    \n",
    "HTML(html)"
   ]
  },
  {
   "cell_type": "code",
   "execution_count": null,
   "metadata": {
    "collapsed": true
   },
   "outputs": [],
   "source": [
    "for a in soup.findAll('a'):\n",
    "    mask = re.compile('https:\\/\\/www.engadget.com\\/\\d\\d\\d\\d\\/\\d\\d\\/\\d\\d\\/(.*)');\n",
    "    # print(mask.match(a['href'] ) )\n",
    "    if mask.match(a['href']) is not None:\n",
    "        print(a)"
   ]
  },
  {
   "cell_type": "code",
   "execution_count": null,
   "metadata": {
    "ExecuteTime": {
     "start_time": "2017-03-26T22:11:17.895Z"
    },
    "collapsed": false,
    "deletable": true,
    "editable": true,
    "run_control": {
     "frozen": false,
     "read_only": false
    },
    "scrolled": false
   },
   "outputs": [
    {
     "name": "stdout",
     "output_type": "stream",
     "text": [
      "... #50749\n",
      "2008/10/15:  panasonic-bringing-blu-ray-recorder-to-us-in-2009\n",
      "2008/10/23:  humax-announces-320gb-freesat-foxsat-hdr-for-uk-market\n",
      "2008/11/21:  humaxs-320gb-freesat-foxsat-hdr-now-on-sale\n",
      "2008/03/07:  future-shop-offers-trade-in-credit-for-hd-dvd-players-will-dona\n",
      "2007/12/24:  queens-christmas-day-speech-broadcast-in-hd-on-youtube\n",
      "2008/03/20:  viddyou-takes-online-video-sharing-to-1080p\n",
      "2008/03/19:  time-warner-cable-signs-up-for-march-madness-vod\n",
      "2008/03/03:  comcast-to-offer-up-ncaa-march-madness-more-films-on-hd-vod\n",
      "2008/02/28:  bring-it-cbs-to-offer-march-madness-hd-vod\n",
      "2008/04/17:  universals-blu-ray-release-plans-uncovered-details-later-today\n",
      "2008/04/17:  nbc-universal-brings-heroes-to-blu-ray-august-26\n",
      "2006/10/10:  sooloos-to-store-your-lossless-tunes\n",
      "2008/03/12:  frances-numericable-rolls-docsis-3-0-network-to-five-new-cities\n",
      "2008/10/01:  panasonics-ez-touch-multitouch-remote-control-concept-hands-on\n",
      "2008/02/20:  panasonic-intros-dmr-br500-dmr-xw320-and-dmr-xw120-hdd-blu-ra\n",
      "2008/05/28:  panasonic-launches-twin-tuner-blu-ray-dvd-recorders-in-austral\n",
      "2008/09/17:  humax-foxsat-hd-freesat-receiver-gets-reviewed\n",
      "2008/05/07:  freesat-gets-hands-on-treatment\n",
      "2008/10/23:  humax-announces-320gb-freesat-foxsat-hdr-for-ack-market\n",
      "2008/01/29:  german-retailer-discounting-sony-bdp-s300-for-hd-dvd-player-trad\n",
      "2008/03/04:  sony-offers-blu-ray-trade-in-deal-for-hd-dvd-owners-in-switzerl\n",
      "2008/03/06:  samsung-kills-bd-up5500-combo-player-before-it-ever-truly-lived\n",
      "2008/02/26:  acc-brings-its-hd-a-game-to-the-tournament\n",
      "2007/08/31:  universal-launches-a-new-hd-dvd-promo-site-kind-of\n",
      "2007/07/26:  heroes-season-1-seven-disc-hd-dvd-set-previewed-at-comic-con\n",
      "2006/09/11:  kaleidescape-goes-entry-level-with-new-10k-1u-server\n",
      "2006/09/16:  infrant-repertoire-digital-media-server\n",
      "2005/02/25:  mp3beamer-gets-the-budget-audio-media-server-just-right\n",
      "2008/03/05:  comcast-upgrading-infrastructure-in-south-florida-more-hd-on-th\n",
      "2008/05/06:  freesat-tv-service-goes-live-across-the-uk\n",
      "2008/02/28:  samsung-bd-p1400-review\n",
      "2008/01/08:  hands-on-with-samsungs-bd-up5500-hd-dvd-blu-ray-combo-player\n",
      "2007/12/14:  comcast-enhancing-infrastructure-adding-more-hd-options-in-nort\n",
      "2007/12/12:  seattle-tacoma-comcast-users-gain-four-more-hd-channels\n",
      "2007/12/12:  comcast-gives-twin-cities-11-new-hd-options\n",
      "scrape has exited\n",
      "[] ['https://www.engadget.com', 'https://www.engadget.com', 'https://www.engadget.com/2017/03/24/how-to-adult-at-security/', 'https://www.engadget.com/2017/03/24/how-to-adult-at-security/', 'https://www.engadget.com/2016/02/19/hospital-ransomware-a-chilling-wake-up-call/', 'https://www.engadget.com/2016/02/19/hospital-ransomware-a-chilling-wake-up-call/', 'https://www.engadget.com/2016/10/28/that-time-your-smart-toaster-broke-the-internet/', 'https://www.engadget.com/2016/10/28/that-time-your-smart-toaster-broke-the-internet/', 'https://www.engadget.com/2017/02/24/how-used-cars-became-a-security-nightmare/', 'https://www.engadget.com/2017/02/24/how-used-cars-became-a-security-nightmare/', 'https://www.engadget.com/2016/02/15/hollywood-hospital-ransomware-attack/', 'https://www.engadget.com/2016/02/15/hollywood-hospital-ransomware-attack/', 'https://www.engadget.com/2016/01/08/you-say-advertising-i-say-block-that-malware/', 'https://www.engadget.com/2016/01/08/you-say-advertising-i-say-block-that-malware/', 'https://www.engadget.com/2016/10/21/some-of-the-biggest-sites-on-the-internet-were-shut-down-this-mo/', 'https://www.engadget.com/2016/10/21/some-of-the-biggest-sites-on-the-internet-were-shut-down-this-mo/', 'https://www.engadget.com/2016/10/21/the-looming-spectre-of-cyberwar-with-russia/', 'https://www.engadget.com/2016/10/21/the-looming-spectre-of-cyberwar-with-russia/', 'https://www.engadget.com/2015/07/09/how-spyware-peddler-hacking-team-was-publicly-dismantled/', 'https://www.engadget.com/2015/07/09/how-spyware-peddler-hacking-team-was-publicly-dismantled/', 'https://www.engadget.com/2016/04/08/the-panama-papers-a-breach-we-can-all-get-behind/', 'https://www.engadget.com/2016/04/08/the-panama-papers-a-breach-we-can-all-get-behind/', 'https://www.engadget.com/2015/04/14/kaspersky-releases-decryption-tool-that-unlocks-ransomware/', 'https://www.engadget.com/2015/04/14/kaspersky-releases-decryption-tool-that-unlocks-ransomware/', 'https://www.engadget.com/2016/02/12/teen-arrested-us-government-hacks/', 'https://www.engadget.com/2016/02/12/teen-arrested-us-government-hacks/', 'https://www.engadget.com/2016/10/21/us-investigating-friday-s-internet-blackout-as-criminal-act/', 'https://www.engadget.com/2016/10/21/us-investigating-friday-s-internet-blackout-as-criminal-act/', 'https://www.engadget.com/2016/10/15/cia-cyberattack-russia/', 'https://www.engadget.com/2016/10/15/cia-cyberattack-russia/', 'https://www.engadget.com/2016/10/07/russia-dnc-state-elections-hack-us-says/', 'https://www.engadget.com/2016/10/07/russia-dnc-state-elections-hack-us-says/', 'https://www.engadget.com/2016/09/13/guccifer-2-0-leak-tim-kaine-phone-number/', 'https://www.engadget.com/2016/09/13/guccifer-2-0-leak-tim-kaine-phone-number/', 'https://www.engadget.com/2016/06/24/the-clownish-fight-over-who-hacked-the-dnc/', 'https://www.engadget.com/2016/06/24/the-clownish-fight-over-who-hacked-the-dnc/', 'https://www.engadget.com/2016/06/13/cyber-bombs-digital-d-days-and-other-nonsense/', 'https://www.engadget.com/2016/06/13/cyber-bombs-digital-d-days-and-other-nonsense/', 'https://www.engadget.com/2015/03/09/ethiopia-is-hacking-us-journalists/', 'https://www.engadget.com/2015/03/09/ethiopia-is-hacking-us-journalists/', 'https://www.engadget.com/2016/04/04/panama-papers-leak/', 'https://www.engadget.com/2016/04/04/panama-papers-leak/', 'https://www.engadget.com/2016/04/06/panama-papers-firm-blames-leak-on-hack/', 'https://www.engadget.com/2016/04/06/panama-papers-firm-blames-leak-on-hack/', 'https://www.engadget.com/2015/10/19/high-school-student-claims-to-have-hacked-cia-chiefs-personal-e/', 'https://www.engadget.com/2015/10/19/high-school-student-claims-to-have-hacked-cia-chiefs-personal-e/', 'https://www.engadget.com/2016/01/12/the-teen-hackers-that-cracked-the-cia-chiefs-email-are-back/', 'https://www.engadget.com/2016/01/12/the-teen-hackers-that-cracked-the-cia-chiefs-email-are-back/', 'https://www.engadget.com/2016/02/08/hacker-leaks-justice-department-staff-info/', 'https://www.engadget.com/2016/02/08/hacker-leaks-justice-department-staff-info/', 'https://www.engadget.com/2016/10/06/report-confirms-iot-botnet-took-down-krebs-security-site/', 'https://www.engadget.com/2016/10/06/report-confirms-iot-botnet-took-down-krebs-security-site/', 'https://www.engadget.com/2016/07/22/wikileaks-publishes-thousands-of-dnc-emails/', 'https://www.engadget.com/2016/07/22/wikileaks-publishes-thousands-of-dnc-emails/', 'https://www.engadget.com/2016/10/04/guccifer2-dumps-a-bunch-of-clinton-foundation-donor-data/', 'https://www.engadget.com/2016/10/04/guccifer2-dumps-a-bunch-of-clinton-foundation-donor-data/', 'https://www.engadget.com/2016/08/12/experts-believe-dnc-hackers-are-behind-a-larger-plot/', 'https://www.engadget.com/2016/08/12/experts-believe-dnc-hackers-are-behind-a-larger-plot/', 'https://www.engadget.com/2016/07/25/fbi-to-investigate-russia-s-involvement-in-dnc-email-leak/', 'https://www.engadget.com/2016/07/25/fbi-to-investigate-russia-s-involvement-in-dnc-email-leak/', 'https://www.engadget.com/2016/09/02/vladimir-putin-dnc-email-hack/', 'https://www.engadget.com/2016/09/02/vladimir-putin-dnc-email-hack/', 'https://www.engadget.com/2016/08/29/foreign-hack-state-voting-registration-fbi/', 'https://www.engadget.com/2016/08/29/foreign-hack-state-voting-registration-fbi/', 'https://www.engadget.com/2016/07/27/trump-wants-russia-to-hack-the-us-government/', 'https://www.engadget.com/2016/07/27/trump-wants-russia-to-hack-the-us-government/', 'https://www.engadget.com/2016/09/01/guccifer-pleads-out-gets-52-months/', 'https://www.engadget.com/2016/09/01/guccifer-pleads-out-gets-52-months/', 'https://www.engadget.com/2016/02/18/fbi-apple-iphone-explainer/', 'https://www.engadget.com/2016/02/18/fbi-apple-iphone-explainer/', 'https://www.engadget.com/2016/03/04/government-argument-for-iphone-unlock-cyber-pathogen-really/', 'https://www.engadget.com/2016/03/04/government-argument-for-iphone-unlock-cyber-pathogen-really/', 'https://www.engadget.com/2015/05/29/weaponizing-code/', 'https://www.engadget.com/2015/05/29/weaponizing-code/', 'https://www.engadget.com/2016/06/06/dnp-sophisticated-hack-attack-dont-believe-the-hype/', 'https://www.engadget.com/2016/06/06/dnp-sophisticated-hack-attack-dont-believe-the-hype/', 'https://www.engadget.com/2014/06/24/hacker-tools-spyware/', 'https://www.engadget.com/2014/06/24/hacker-tools-spyware/', 'https://www.engadget.com/2007/10/05/ethiopia-turns-sms-back-on/', 'https://www.engadget.com/2007/10/05/ethiopia-turns-sms-back-on/', 'https://www.engadget.com/2014/04/14/edward-snowden-nsa-pulitzer/', 'https://www.engadget.com/2014/04/14/edward-snowden-nsa-pulitzer/', 'https://www.engadget.com/2015/12/28/roscosmos-abolished/', 'https://www.engadget.com/2015/12/28/roscosmos-abolished/', 'https://www.engadget.com/2015/09/12/self-destructing-computer-chip-darpa/', 'https://www.engadget.com/2015/09/12/self-destructing-computer-chip-darpa/', 'https://www.engadget.com/2015/05/12/verizon-buys-aol/', 'https://www.engadget.com/2015/05/12/verizon-buys-aol/', 'https://www.engadget.com/2015/04/25/cia-mass-surveillance-problems/', 'https://www.engadget.com/2015/04/25/cia-mass-surveillance-problems/', 'https://www.engadget.com/2015/06/12/fed-hackers-have-info-on-cia-nsa-military/', 'https://www.engadget.com/2015/06/12/fed-hackers-have-info-on-cia-nsa-military/', 'https://www.engadget.com/2015/09/23/feds-recover-hillary-clinton-emails/', 'https://www.engadget.com/2015/09/23/feds-recover-hillary-clinton-emails/', 'https://www.engadget.com/2015/10/21/wikileaks-publishes-cia-chiefs-pilfered-email-attachments/', 'https://www.engadget.com/2015/10/21/w"
     ]
    },
    {
     "data": {
      "text/html": [
       "<b>limit_output extension: Maximum message size of 10000 exceeded with 8917854 characters</b>"
      ]
     },
     "metadata": {},
     "output_type": "execute_result"
    }
   ],
   "source": [
    "class Scrape():\n",
    "    def __init__(self, folder):\n",
    "        self.cache_file_name = folder + \".scrape.progress\"\n",
    "        self.post_url_mask = re.compile('https:\\/\\/www.engadget.com\\/(\\d\\d\\d\\d\\/\\d\\d\\/\\d\\d)\\/([^?\\/:]*)(.*)');\n",
    "        self.folder = folder\n",
    "        self.active = []\n",
    "        self.done = []\n",
    "        self.i = 0\n",
    "        \n",
    "        \n",
    "    def scrape(self, url):\n",
    "        if url in self.done: return\n",
    "        self.done.append(url)\n",
    "        \n",
    "        page = requests.get(url)\n",
    "        soup = BeautifulSoup(page.content, 'html.parser')\n",
    "        \n",
    "        if self.post_url_mask.match(url):\n",
    "            html = \"\"\n",
    "            for n in soup.findAll('div', attrs={\"class\":\"article-text\"}):\n",
    "                html += str(n)\n",
    "\n",
    "            match = self.post_url_mask.match(url)\n",
    "            title = match.group(2)\n",
    "            date = match.group(1)\n",
    "\n",
    "            print(date + \":  \" + title)\n",
    "\n",
    "            with open(self.folder + title + '.txt', 'w+') as f:\n",
    "                soup = BeautifulSoup(html.replace('</p>', '\\n\\n</p>').replace('  ', ' '), 'html.parser')\n",
    "                f.write(soup.getText())\n",
    "        \n",
    "        for a in soup.findAll('a'):\n",
    "            try: \n",
    "                if mask.match(a['href']) is not None:\n",
    "                    self.add_link(a['href'])\n",
    "            except KeyError:\n",
    "                print('Warning: anchor has empty href.')\n",
    "            \n",
    "    def craw(self, url, once=False):\n",
    "        if url is not None:\n",
    "            self.active.append(url)\n",
    "\n",
    "        while len(self.active) > 0:\n",
    "            self.i += 1\n",
    "            url = self.active.pop(0)\n",
    "            self.scrape(url)\n",
    "            self.done.append(url)\n",
    "            \n",
    "            if once:\n",
    "                break\n",
    "                \n",
    "            if self.i%50 == 49:\n",
    "                clear_output(wait=True)\n",
    "                print(\"... #{:d}\".format(self.i))\n",
    "        \n",
    "    def add_link(self, link):\n",
    "        if link in self.done or link in self.active:\n",
    "            return\n",
    "        self.active.append(link)\n",
    "            \n",
    "    def __enter__(self, *args):\n",
    "        try:\n",
    "            with open(self.cache_file_name, 'rb') as f:\n",
    "                \n",
    "                print(self.cache_file_name)\n",
    "                cache = pickle.load(f)\n",
    "                self.active = cache['active'] or []\n",
    "                self.done = cache['done'] or []\n",
    "                self.i = cache['i'] or 0\n",
    "                \n",
    "        except FileNotFoundError:\n",
    "            print('no progress file found')\n",
    "        except EOFError:\n",
    "            print('Warning: file is empty')\n",
    "        except AttributeError as err:\n",
    "            print('cache does not have key ' + str(err))\n",
    "        \n",
    "        return self\n",
    "            \n",
    "    def __exit__(self, *args):\n",
    "        print('scrape has exited')\n",
    "        with open(self.cache_file_name, 'wb') as f:\n",
    "            print(self.active, self.done)\n",
    "            pickle.dump({\n",
    "                \"active\": self.active,\n",
    "                \"done\": self.done,\n",
    "                \"i\": self.i\n",
    "            }, f)\n",
    "        print('scrape state has been saved')\n",
    "        \n",
    "with Scrape('./engadget_data/') as s:\n",
    "    \n",
    "    s.craw('https://www.engadget.com')\n",
    "    #s.craw('https://www.engadget.com/2010/06/23/google-wins-youtube-copyright-case-against-viacom/')"
   ]
  },
  {
   "cell_type": "code",
   "execution_count": null,
   "metadata": {
    "ExecuteTime": {
     "start_time": "2017-03-26T22:11:17.897Z"
    },
    "collapsed": false,
    "deletable": true,
    "editable": true,
    "run_control": {
     "frozen": false,
     "read_only": false
    }
   },
   "outputs": [],
   "source": [
    "# with open(\"./.scrape.progress\", 'wb') as f:\n",
    "#     cache = pickle.dump({\"active\":[], 'done':[]}, f)\n",
    "#     print(cache)"
   ]
  },
  {
   "cell_type": "code",
   "execution_count": null,
   "metadata": {
    "ExecuteTime": {
     "start_time": "2017-03-26T22:11:17.898Z"
    },
    "collapsed": false,
    "deletable": true,
    "editable": true,
    "run_control": {
     "frozen": false,
     "read_only": false
    }
   },
   "outputs": [
    {
     "name": "stdout",
     "output_type": "stream",
     "text": [
      "{'active': [], 'done': ['https://www.engadget.com', 'https://www.engadget.com', 'https://www.engadget.com/2017/03/24/how-to-adult-at-security/', 'https://www.engadget.com/2017/03/24/how-to-adult-at-security/', 'https://www.engadget.com/2016/02/19/hospital-ransomware-a-chilling-wake-up-call/', 'https://www.engadget.com/2016/02/19/hospital-ransomware-a-chilling-wake-up-call/', 'https://www.engadget.com/2016/10/28/that-time-your-smart-toaster-broke-the-internet/', 'https://www.engadget.com/2016/10/28/that-time-your-smart-toaster-broke-the-internet/', 'https://www.engadget.com/2017/02/24/how-used-cars-became-a-security-nightmare/', 'https://www.engadget.com/2017/02/24/how-used-cars-became-a-security-nightmare/', 'https://www.engadget.com/2016/02/15/hollywood-hospital-ransomware-attack/', 'https://www.engadget.com/2016/02/15/hollywood-hospital-ransomware-attack/', 'https://www.engadget.com/2016/01/08/you-say-advertising-i-say-block-that-malware/', 'https://www.engadget.com/2016/01/08/you-say-advertising-i-say-block-that-malware/', 'https://www.engadget.com/2016/10/21/some-of-the-biggest-sites-on-the-internet-were-shut-down-this-mo/', 'https://www.engadget.com/2016/10/21/some-of-the-biggest-sites-on-the-internet-were-shut-down-this-mo/', 'https://www.engadget.com/2016/10/21/the-looming-spectre-of-cyberwar-with-russia/', 'https://www.engadget.com/2016/10/21/the-looming-spectre-of-cyberwar-with-russia/', 'https://www.engadget.com/2015/07/09/how-spyware-peddler-hacking-team-was-publicly-dismantled/', 'https://www.engadget.com/2015/07/09/how-spyware-peddler-hacking-team-was-publicly-dismantled/', 'https://www.engadget.com/2016/04/08/the-panama-papers-a-breach-we-can-all-get-behind/', 'https://www.engadget.com/2016/04/08/the-panama-papers-a-breach-we-can-all-get-behind/', 'https://www.engadget.com/2015/04/14/kaspersky-releases-decryption-tool-that-unlocks-ransomware/', 'https://www.engadget.com/2015/04/14/kaspersky-releases-decryption-tool-that-unlocks-ransomware/', 'https://www.engadget.com/2016/02/12/teen-arrested-us-government-hacks/', 'https://www.engadget.com/2016/02/12/teen-arrested-us-government-hacks/', 'https://www.engadget.com/2016/10/21/us-investigating-friday-s-internet-blackout-as-criminal-act/', 'https://www.engadget.com/2016/10/21/us-investigating-friday-s-internet-blackout-as-criminal-act/', 'https://www.engadget.com/2016/10/15/cia-cyberattack-russia/', 'https://www.engadget.com/2016/10/15/cia-cyberattack-russia/', 'https://www.engadget.com/2016/10/07/russia-dnc-state-elections-hack-us-says/', 'https://www.engadget.com/2016/10/07/russia-dnc-state-elections-hack-us-says/', 'https://www.engadget.com/2016/09/13/guccifer-2-0-leak-tim-kaine-phone-number/', 'https://www.engadget.com/2016/09/13/guccifer-2-0-leak-tim-kaine-phone-number/', 'https://www.engadget.com/2016/06/24/the-clownish-fight-over-who-hacked-the-dnc/', 'https://www.engadget.com/2016/06/24/the-clownish-fight-over-who-hacked-the-dnc/', 'https://www.engadget.com/2016/06/13/cyber-bombs-digital-d-days-and-other-nonsense/', 'https://www.engadget.com/2016/06/13/cyber-bombs-digital-d-days-and-other-nonsense/', 'https://www.engadget.com/2015/03/09/ethiopia-is-hacking-us-journalists/', 'https://www.engadget.com/2015/03/09/ethiopia-is-hacking-us-journalists/', 'https://www.engadget.com/2016/04/04/panama-papers-leak/', 'https://www.engadget.com/2016/04/04/panama-papers-leak/', 'https://www.engadget.com/2016/04/06/panama-papers-firm-blames-leak-on-hack/', 'https://www.engadget.com/2016/04/06/panama-papers-firm-blames-leak-on-hack/', 'https://www.engadget.com/2015/10/19/high-school-student-claims-to-have-hacked-cia-chiefs-personal-e/', 'https://www.engadget.com/2015/10/19/high-school-student-claims-to-have-hacked-cia-chiefs-personal-e/', 'https://www.engadget.com/2016/01/12/the-teen-hackers-that-cracked-the-cia-chiefs-email-are-back/', 'https://www.engadget.com/2016/01/12/the-teen-hackers-that-cracked-the-cia-chiefs-email-are-back/', 'https://www.engadget.com/2016/02/08/hacker-leaks-justice-department-staff-info/', 'https://www.engadget.com/2016/02/08/hacker-leaks-justice-department-staff-info/', 'https://www.engadget.com/2016/10/06/report-confirms-iot-botnet-took-down-krebs-security-site/', 'https://www.engadget.com/2016/10/06/report-confirms-iot-botnet-took-down-krebs-security-site/', 'https://www.engadget.com/2016/07/22/wikileaks-publishes-thousands-of-dnc-emails/', 'https://www.engadget.com/2016/07/22/wikileaks-publishes-thousands-of-dnc-emails/', 'https://www.engadget.com/2016/10/04/guccifer2-dumps-a-bunch-of-clinton-foundation-donor-data/', 'https://www.engadget.com/2016/10/04/guccifer2-dumps-a-bunch-of-clinton-foundation-donor-data/', 'https://www.engadget.com/2016/08/12/experts-believe-dnc-hackers-are-behind-a-larger-plot/', 'https://www.engadget.com/2016/08/12/experts-believe-dnc-hackers-are-behind-a-larger-plot/', 'https://www.engadget.com/2016/07/25/fbi-to-investigate-russia-s-involvement-in-dnc-email-leak/', 'https://www.engadget.com/2016/07/25/fbi-to-investigate-russia-s-involvement-in-dnc-email-leak/', 'https://www.engadget.com/2016/09/02/vladimir-putin-dnc-email-hack/', 'https://www.engadget.com/2016/09/02/vladimir-putin-dnc-email-hack/', 'https://www.engadget.com/2016/08/29/foreign-hack-state-voting-registration-fbi/', 'https://www.engadget.com/2016/08/29/foreign-hack-state-voting-registration-fbi/', 'https://www.engadget.com/2016/07/27/trump-wants-russia-to-hack-the-us-government/', 'https://www.engadget.com/2016/07/27/trump-wants-russia-to-hack-the-us-government/', 'https://www.engadget.com/2016/09/01/guccifer-pleads-out-gets-52-months/', 'https://www.engadget.com/2016/09/01/guccifer-pleads-out-gets-52-months/', 'https://www.engadget.com/2016/02/18/fbi-apple-iphone-explainer/', 'https://www.engadget.com/2016/02/18/fbi-apple-iphone-explainer/', 'https://www.engadget.com/2016/03/04/government-argument-for-iphone-unlock-cyber-pathogen-really/', 'https://www.engadget.com/2016/03/04/government-argument-for-iphone-unlock-cyber-pathogen-really/', 'https://www.engadget.com/2015/05/29/weaponizing-code/', 'https://www.engadget.com/2015/05/29/weaponizing-code/', 'https://www.engadget.com/2016/06/06/dnp-sophisticated-hack-attack-dont-believe-the-hype/', 'https://www.engadget.com/2016/06/06/dnp-sophisticated-hack-attack-dont-believe-the-hype/', 'https://www.engadget.com/2014/06/24/hacker-tools-spyware/', 'https://www.engadget.com/2014/06/24/hacker-tools-spyware/', 'https://www.engadget.com/2007/10/05/ethiopia-turns-sms-back-on/', 'https://www.engadget.com/2007/10/05/ethiopia-turns-sms-back-on/', 'https://www.engadget.com/2014/04/14/edward-snowden-nsa-pulitzer/', 'https://www.engadget.com/2014/04/14/edward-snowden-nsa-pulitzer/', 'https://www.engadget.com/2015/12/28/roscosmos-abolished/', 'https://www.engadget.com/2015/12/28/roscosmos-abolished/', 'https://www.engadget.com/2015/09/12/self-destructing-computer-chip-darpa/', 'https://www.engadget.com/2015/09/12/self-destructing-computer-chip-darpa/', 'https://www.engadget.com/2015/05/12/verizon-buys-aol/', 'https://www.engadget.com/2015/05/12/verizon-buys-aol/', 'https://www.engadget.com/2015/04/25/cia-mass-surveillance-problems/', 'https://www.engadget.com/2015/04/25/cia-mass-surveillance-problems/', 'https://www.engadget.com/2015/06/12/fed-hackers-have-info-on-cia-nsa-military/', 'https://www.engadget.com/2015/06/12/fed-hackers-have-info-on-cia-nsa-military/', 'https://www.engadget.com/2015/09/23/feds-recover-hillary-clinton-emails/', 'https://www.engadget.com/2015/09/23/feds-recover-hillary-clinton-emails/', 'https://www.engadget.com/2015/10/21/wikileaks-publishes-cia-chiefs-pilfered-email-attachments/', 'https://www.engadget.com/2015/10/21/wikileaks-publishes-cia-chiefs-pilfered-email-attachments/', 'https://www.engadget.com/2015/06/04/opm-hack-data-breach/', 'https://www.engadget.com/2015/06/04/opm-hack-data-breach/', 'https://www.engadget.com/2016/09/23/brians-krebs-ddos-attack/', 'https://www.engadget.com/2016/09/23/brians-krebs-ddos-attack/', 'https://www.engadget.com/2016/09/25/google-helps-recovery-from-cyberattack/', 'https://www.engadget.com/2016/09/25/google-helps-recovery-from-cyberattack/', 'https://www.engadget.com/2016/09/11/major-cyberattack-seller-busted/', 'https://www.engadget.com/2016/09/11/major-cyberattack-seller-busted/', 'https://www.engadget.com/2016/08/23/ap-report-condenms-wikileaks/', 'https://www.engadget.com/2016/08/23/ap-report-condenms-wikileaks/', 'https://www.engadget.com/2016/08/31/democrats-ask-fbi-to-investigate-trump-hack-link/', 'https://www.engadget.com/2016/08/31/democrats-ask-fbi-to-investigate-trump-hack-link/', 'https://www.engadget.com/2016/09/02/read-the-fbis-clinton-investigation-documents-for-yourself/', 'https://www.engadget.com/2016/09/02/read-the-fbis-clinton-investigation-documents-for-yourself/', 'https://www.engadget.com/2016/07/05/fbi-concludes-investigation-clinton-emails/', 'https://www.engadget.com/2016/07/05/fbi-concludes-investigation-clinton-emails/', 'https://www.engadget.com/2016/07/29/dnc-2016-sanders-clinton-supporters-email-hack/', 'https://www.engadget.com/2016/07/29/dnc-2016-sanders-clinton-supporters-email-hack/', 'https://www.engadget.com/2016/07/07/fbi-comey-congressional-hearing-clinton-emails/', 'https://www.engadget.com/2016/07/07/fbi-comey-congressional-hearing-clinton-emails/', 'https://www.engadget.com/2016/02/17/apple-tim-cook-open-letter-fbi-encryption/', 'https://www.engadget.com/2016/02/17/apple-tim-cook-open-letter-fbi-encryption/', 'https://www.engadget.com/2016/02/11/nypd-stingray-use-cellphone-surveillance/', 'https://www.engadget.com/2016/02/11/nypd-stingray-use-cellphone-surveillance/', 'https://www.engadget.com/2015/05/05/snowden-documents-reveal-how-the-nsa-searches-voice-calls/', 'https://www.engadget.com/2015/05/05/snowden-documents-reveal-how-the-nsa-searches-voice-calls/', 'https://www.engadget.com/2016/02/17/google-ceo-response-to-fbi-apple-request/', 'https://www.engadget.com/2016/02/17/google-ceo-response-to-f"
     ]
    },
    {
     "data": {
      "text/html": [
       "<b>limit_output extension: Maximum message size of 10000 exceeded with 8915533 characters</b>"
      ]
     },
     "metadata": {},
     "output_type": "execute_result"
    }
   ],
   "source": [
    "with open(\"./engadget_data/.scrape.progress\", 'rb') as f:\n",
    "    cache = pickle.load(f)\n",
    "    print(cache)"
   ]
  },
  {
   "cell_type": "code",
   "execution_count": null,
   "metadata": {
    "collapsed": false,
    "deletable": true,
    "editable": true,
    "run_control": {
     "frozen": false,
     "read_only": false
    }
   },
   "outputs": [],
   "source": []
  }
 ],
 "metadata": {
  "hide_input": false,
  "kernelspec": {
   "display_name": "deep-learning-python3",
   "language": "python",
   "name": "deep-learning"
  },
  "language_info": {
   "codemirror_mode": {
    "name": "ipython",
    "version": 3
   },
   "file_extension": ".py",
   "mimetype": "text/x-python",
   "name": "python",
   "nbconvert_exporter": "python",
   "pygments_lexer": "ipython3",
   "version": "3.6.0"
  },
  "toc": {
   "colors": {
    "hover_highlight": "#DAA520",
    "running_highlight": "#FF0000",
    "selected_highlight": "#FFD700"
   },
   "moveMenuLeft": true,
   "nav_menu": {
    "height": "305px",
    "width": "280px"
   },
   "navigate_menu": true,
   "number_sections": true,
   "sideBar": true,
   "threshold": 4,
   "toc_cell": false,
   "toc_section_display": "block",
   "toc_window_display": false,
   "widenNotebook": false
  }
 },
 "nbformat": 4,
 "nbformat_minor": 0
}
